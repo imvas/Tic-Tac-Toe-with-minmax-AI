{
 "cells": [
  {
   "cell_type": "code",
   "execution_count": null,
   "metadata": {},
   "outputs": [],
   "source": [
    "\n",
    "\n",
    "def whole(player1,player2):\n",
    "    \n",
    "    global c\n",
    "    global d\n",
    "    c=0\n",
    "    d=0\n",
    "    for i in range(1,10):\n",
    "        b=int(input('ENTER INDEX VALUE FOR P1: '))\n",
    "        showbox1(b,player1)\n",
    "        if checkwin():\n",
    "            c=0\n",
    "            return True\n",
    "        b=int(input('ENTER INDEX VALUE FOR P2: '))\n",
    "        showbox2(b,player2)\n",
    "        if checkwin():\n",
    "            c=1\n",
    "            return True\n",
    "    d=-1  \n",
    "    return False"
   ]
  },
  {
   "cell_type": "code",
   "execution_count": null,
   "metadata": {},
   "outputs": [],
   "source": [
    "def CompTurn(board):\n",
    "    pos=-1;\n",
    "    value=-2;\n",
    "    for i in range(0,9):\n",
    "        if(board[i]==0):\n",
    "            board[i]=1;\n",
    "            score=-minimax(board, -1);\n",
    "            board[i]=0;\n",
    "            if(score>value):\n",
    "                value=score;\n",
    "                pos=i;\n",
    " \n",
    "    board[pos]=1;\n"
   ]
  },
  {
   "cell_type": "code",
   "execution_count": null,
   "metadata": {},
   "outputs": [],
   "source": [
    "def analyzeboard(board):\n",
    "    cb=[[0,1,2],[3,4,5],[6,7,8],[0,3,6],[1,4,7],[2,5,8],[0,4,8],[2,4,6]];\n",
    "\n",
    "    for i in range(0,8):\n",
    "        if(board[cb[i][0]] != 0 and\n",
    "           board[cb[i][0]] == board[cb[i][1]] and\n",
    "           board[cb[i][0]] == board[cb[i][2]]):\n",
    "            return board[cb[i][2]];\n",
    "    return 0;"
   ]
  },
  {
   "cell_type": "code",
   "execution_count": null,
   "metadata": {},
   "outputs": [],
   "source": [
    "def minimax(board,player):\n",
    "    x=analyzeboard(board);\n",
    "    if(x!=0):\n",
    "        return (x*player);\n",
    "    pos=-1;\n",
    "    value=-2;\n",
    "    for i in range(0,9):\n",
    "        if(board[i]==0):\n",
    "            board[i]=player;\n",
    "            score=-minimax(board,(player*-1));\n",
    "            if(score>value):\n",
    "                value=score;\n",
    "                pos=i;\n",
    "            board[i]=0;\n",
    "\n",
    "    if(pos==-1):\n",
    "        return 0;\n",
    "    return value;\n",
    "    "
   ]
  },
  {
   "cell_type": "code",
   "execution_count": null,
   "metadata": {},
   "outputs": [],
   "source": [
    "def User1Turn(board):\n",
    "    pos=input(\"Enter X's position from [1...9]: \");\n",
    "    pos=int(pos);\n",
    "    if(board[pos-1]!=0):\n",
    "        print(\"Wrong Move!!!\");\n",
    "        exit(0) ;\n",
    "    board[pos-1]=-1;"
   ]
  },
  {
   "cell_type": "code",
   "execution_count": null,
   "metadata": {},
   "outputs": [],
   "source": [
    "def ConstBoard(board):\n",
    "    print(\"Current State Of Board : \\n\\n\");\n",
    "    cerus=[' ',' ',' ',' ',' ',' ',' ',' ',' ']\n",
    "    for i in range (0,9):\n",
    "\n",
    "        if (board[i]==1):\n",
    "            cerus[i]='O'\n",
    "        if(board[i]==-1):    \n",
    "            cerus[i]='X'\n",
    "    print(f'{cerus[0]}|{cerus[1]}|{cerus[2]}\\n------\\n{cerus[3]}|{cerus[4]}|{cerus[5]}\\n------\\n{cerus[6]}|{cerus[7]}|{cerus[8]}\\n')"
   ]
  },
  {
   "cell_type": "code",
   "execution_count": null,
   "metadata": {},
   "outputs": [],
   "source": [
    "def main():\n",
    "    \n",
    "        print(\"Computer : O Vs. You : X\");\n",
    "        player= input(\"Enter to play 1(st) or 2(nd) :\");\n",
    "        player = int(player);\n",
    "        for i in range (0,9):\n",
    "            if(analyzeboard(board)!=0):\n",
    "                break;\n",
    "            if((i+player)%2==0):\n",
    "                CompTurn(board);\n",
    "            else:\n",
    "                ConstBoard(board);\n",
    "                User1Turn(board);\n",
    "         \n",
    "\n",
    "        x=analyzeboard(board);\n",
    "        if(x==0):\n",
    "             ConstBoard(board);\n",
    "             print(\"Draw!!!\")\n",
    "        if(x==-1):\n",
    "              ConstBoard(board);\n",
    "              print(\"X Wins!!! Y Loose !!!\")\n",
    "        if(x==1):\n",
    "              ConstBoard(board);\n",
    "              print(\"X Loose!!! O Wins !!!!\")"
   ]
  },
  {
   "cell_type": "code",
   "execution_count": null,
   "metadata": {},
   "outputs": [],
   "source": [
    "def checkwin():\n",
    "    if a[0]!='0' and a[3]==a[0] and a[3]==a[6]:\n",
    "        return True\n",
    "    if a[1]!='0' and a[1]==a[4] and a[4]==a[7]:\n",
    "        return True\n",
    "    if a[2]!='0' and a[2]==a[5] and a[5]==a[8]:\n",
    "        return True\n",
    "    if a[0]!='0' and a[1]==a[0] and a[1]==a[2]:\n",
    "        return True\n",
    "    if a[3]!='0' and a[3]==a[4] and a[4]==a[5]:\n",
    "        return True\n",
    "    if a[6]!='0' and a[6]==a[7] and a[7]==a[8]:\n",
    "        return True\n",
    "    if a[0]!='0' and a[0]==a[4] and a[4]==a[8]:\n",
    "        return True\n",
    "    if a[2]!='0' and a[4]==a[2] and a[4]==a[6]:\n",
    "        return True"
   ]
  },
  {
   "cell_type": "code",
   "execution_count": 1,
   "metadata": {},
   "outputs": [],
   "source": [
    "def showbox1(b,player1):\n",
    "    a[b]=player1\n",
    "    print(f'{a[0]}|{a[1]}|{a[2]}\\n------\\n{a[3]}|{a[4]}|{a[5]}\\n------\\n{a[6]}|{a[7]}|{a[8]}\\n')\n",
    "    \n",
    "    "
   ]
  },
  {
   "cell_type": "code",
   "execution_count": null,
   "metadata": {},
   "outputs": [],
   "source": [
    "def showbox2(b,player2):\n",
    "    a[b]=player2\n",
    "    print(f'{a[0]}|{a[1]}|{a[2]}\\n------\\n{a[3]}|{a[4]}|{a[5]}\\n------\\n{a[6]}|{a[7]}|{a[8]}\\n')\n",
    "    "
   ]
  },
  {
   "cell_type": "code",
   "execution_count": null,
   "metadata": {},
   "outputs": [],
   "source": [
    "print('-----------------------------------|| WELCOME TO TIC TAC TOE ||---------------------------------------------')                                                    \n",
    "while True:\n",
    "            global a\n",
    "            a=['0','0','0','0','0','0','0','0','0']\n",
    "            global board\n",
    "            board=[0,0,0,0,0,0,0,0,0]\n",
    "            m=int(input('PRESS 1 FOR CPU VS PLAYER AND PRESS 2 FOR PLAYER VS PLAYER MODE'))\n",
    "           \n",
    "            if m==1:\n",
    "                  main()\n",
    "            else:\n",
    "                    player1='X'\n",
    "                    player2='O'\n",
    "                    if whole(player1,player2):\n",
    "                                     if c==0:\n",
    "                                              print('PLAYER 1 HAS WON THE GAME AND PLAYER 2 HAS LOST')\n",
    "                                              c=0\n",
    "                                     if c==1:\n",
    "                                            print('PLAYER 2 HAS WON THE GAME AND PLAYER 1 HAS LOST')\n",
    "                                            c=0\n",
    "                                     if d==-1:\n",
    "                                               print('GAME IS DRAWN')\n",
    "                                               d=0\n",
    "            n=int(input('IF YOU WANT TO CONTINUE THE GAME PRESS 1 OR 0 TO EXIT'))\n",
    "            if n==1:\n",
    "                    continue\n",
    "            else:\n",
    "                   break\n",
    "              "
   ]
  },
  {
   "cell_type": "code",
   "execution_count": null,
   "metadata": {},
   "outputs": [],
   "source": []
  }
 ],
 "metadata": {
  "kernelspec": {
   "display_name": "Python 3",
   "language": "python",
   "name": "python3"
  },
  "language_info": {
   "codemirror_mode": {
    "name": "ipython",
    "version": 3
   },
   "file_extension": ".py",
   "mimetype": "text/x-python",
   "name": "python",
   "nbconvert_exporter": "python",
   "pygments_lexer": "ipython3",
   "version": "3.7.6"
  }
 },
 "nbformat": 4,
 "nbformat_minor": 4
}
